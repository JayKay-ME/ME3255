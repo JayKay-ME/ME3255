{
 "cells": [
  {
   "cell_type": "code",
   "execution_count": 1,
   "id": "9dbf75f9",
   "metadata": {},
   "outputs": [
    {
     "ename": "ModuleNotFoundError",
     "evalue": "No module named 'sympy'",
     "output_type": "error",
     "traceback": [
      "\u001b[0;31m---------------------------------------------------------------------------\u001b[0m",
      "\u001b[0;31mModuleNotFoundError\u001b[0m                       Traceback (most recent call last)",
      "\u001b[0;32m<ipython-input-1-79e3c5d7b421>\u001b[0m in \u001b[0;36m<module>\u001b[0;34m\u001b[0m\n\u001b[0;32m----> 1\u001b[0;31m \u001b[0;32mimport\u001b[0m \u001b[0msympy\u001b[0m\u001b[0;34m\u001b[0m\u001b[0;34m\u001b[0m\u001b[0m\n\u001b[0m\u001b[1;32m      2\u001b[0m \u001b[0;32mimport\u001b[0m \u001b[0mnumpy\u001b[0m \u001b[0;32mas\u001b[0m \u001b[0mnp\u001b[0m\u001b[0;34m\u001b[0m\u001b[0;34m\u001b[0m\u001b[0m\n\u001b[1;32m      3\u001b[0m \u001b[0;32mimport\u001b[0m \u001b[0mmatplotlib\u001b[0m\u001b[0;34m.\u001b[0m\u001b[0mpyplot\u001b[0m \u001b[0;32mas\u001b[0m \u001b[0mplt\u001b[0m\u001b[0;34m\u001b[0m\u001b[0;34m\u001b[0m\u001b[0m\n\u001b[1;32m      4\u001b[0m \u001b[0mplt\u001b[0m\u001b[0;34m.\u001b[0m\u001b[0mstyle\u001b[0m\u001b[0;34m.\u001b[0m\u001b[0muse\u001b[0m\u001b[0;34m(\u001b[0m\u001b[0;34m'fivethirtyeight'\u001b[0m\u001b[0;34m)\u001b[0m\u001b[0;34m\u001b[0m\u001b[0;34m\u001b[0m\u001b[0m\n",
      "\u001b[0;31mModuleNotFoundError\u001b[0m: No module named 'sympy'"
     ]
    }
   ],
   "source": [
    "import sympy\n",
    "import numpy as np\n",
    "import matplotlib.pyplot as plt\n",
    "plt.style.use('fivethirtyeight')"
   ]
  },
  {
   "cell_type": "markdown",
   "id": "df5668af",
   "metadata": {
    "tags": []
   },
   "source": [
    "# How to use [SymPy](https://www.sympy.org) to solve equations\n",
    "\n",
    "It can be difficult to create algebra and calculus solutions with symbolic math. For example if you want have an analytical equation to compare to a numerical equation. [SymPy](https://www.sympy.org) is a _symbolic Python_ library that allows you to create variables, rearrange equations, and do math operations (derivatives, integrals, Taylor series, etc.). \n",
    "\n",
    "In this notebook you will:\n",
    "\n",
    "Consider the freefall kinematic equation, $x(t) = x_0 +v_0 t +\\frac{a}{2}t^2$, then\n",
    "1. define variables with `sympy`\n",
    "2. create an equation\n",
    "3. take a derivative of the function\n",
    "3. [`lambdify`](https://docs.sympy.org/latest/tutorial/basic_operations.html#lambdify) the output and plot the maximum height vs initial speed of a baseball thrown upwards from 1 m\n",
    "\n",
    "## 1. define variables with `sympy`"
   ]
  },
  {
   "cell_type": "markdown",
   "id": "5c19b9e8",
   "metadata": {},
   "source": [
    "First, define some variables that you can use to define equations. Here, you create 4 variables:\n",
    "\n",
    "1. time, $t$\n",
    "1. acceleration, $a$\n",
    "2. initial velocity, $v_0$\n",
    "3. initial position, $x_0$"
   ]
  },
  {
   "cell_type": "code",
   "execution_count": null,
   "id": "819a66e8",
   "metadata": {},
   "outputs": [],
   "source": [
    "sympy.var('t, a, v_0, x_0')\n",
    "print(type(t))"
   ]
  },
  {
   "cell_type": "markdown",
   "id": "9bde85ed",
   "metadata": {},
   "source": [
    "The `type` of these variables are `sympy.core.symbol.Symbol`. This means SymPy will consider `t, a, v_0,` and `x_0` as symbolic objects, not floating point or integers."
   ]
  },
  {
   "cell_type": "markdown",
   "id": "5b663a56",
   "metadata": {
    "tags": []
   },
   "source": [
    "## 2. create an equation\n",
    "\n",
    "Now, you can use these variables to define the kinematic equation for a free falling object:\n",
    "\n",
    "$x(t) = x_0 + v_0 t + \\frac{a}{2}t^2$"
   ]
  },
  {
   "cell_type": "code",
   "execution_count": null,
   "id": "32718ab0",
   "metadata": {},
   "outputs": [],
   "source": [
    "x = x_0 +v_0*t +a/2*t**2\n",
    "x"
   ]
  },
  {
   "cell_type": "markdown",
   "id": "c034c671",
   "metadata": {},
   "source": [
    "The output for a SymPy equation is a $\\LaTeX$ equation. If you right-click on the equation you can \"Show Math as TeX commands\" If you want to copy into a Markdown cell or other location. \n",
    "\n",
    "output:\n",
    "```latex\n",
    "\\displaystyle \\frac{a t^{2}}{2} + t v_{0} + x_{0}\n",
    "```"
   ]
  },
  {
   "cell_type": "markdown",
   "id": "1bc50987",
   "metadata": {
    "tags": []
   },
   "source": [
    "## 3. take a derivative of the function and fin the point when $v(t) = 0$\n",
    "\n",
    "So far, you have defined the position, $x(t)$, as `x`. Now, you can take a derivative to get the velocity, $v(t) = \\frac{dx}{dt}$:"
   ]
  },
  {
   "cell_type": "code",
   "execution_count": null,
   "id": "673aaa48",
   "metadata": {},
   "outputs": [],
   "source": [
    "v = x.diff(t)\n",
    "v"
   ]
  },
  {
   "cell_type": "markdown",
   "id": "41e6d2c1",
   "metadata": {},
   "source": [
    "The function, $\\frac{dx}{dt}$, is now saved as the variable, `v`. You can solve for the time when $v(t) = 0$ using `sympy.solve`"
   ]
  },
  {
   "cell_type": "code",
   "execution_count": null,
   "id": "c9006d7d",
   "metadata": {},
   "outputs": [],
   "source": [
    "sol = sympy.solve(v, t)\n",
    "t_max_x = sol[0]\n",
    "t_max_x"
   ]
  },
  {
   "cell_type": "markdown",
   "id": "bbe41c25",
   "metadata": {},
   "source": [
    "The solution is that at $t = -\\frac{v_0}{a}$, the velocity will be 0. Now, you can plug this into `x` to see what the solution at minimum speed will be."
   ]
  },
  {
   "cell_type": "code",
   "execution_count": null,
   "id": "f5e0b9de",
   "metadata": {},
   "outputs": [],
   "source": [
    "max_x = x.subs(t, t_max_x)\n",
    "max_x"
   ]
  },
  {
   "cell_type": "markdown",
   "id": "28edc570",
   "metadata": {},
   "source": [
    "Considering a freefall example, when $x = 0$ the object will hit the ground. So you can solve for the time when $x=0$. _In this case you have 2 solutions because the equation is a quadratic._"
   ]
  },
  {
   "cell_type": "code",
   "execution_count": null,
   "id": "b32373d5",
   "metadata": {},
   "outputs": [],
   "source": [
    "t_ground = sympy.solve(x, t)\n",
    "t_ground[0]"
   ]
  },
  {
   "cell_type": "code",
   "execution_count": null,
   "id": "c11fd4c0",
   "metadata": {},
   "outputs": [],
   "source": [
    "t_ground[1]"
   ]
  },
  {
   "cell_type": "markdown",
   "id": "cc0e5f1c",
   "metadata": {
    "tags": []
   },
   "source": [
    "## 4. [`lambdify`](https://docs.sympy.org/latest/tutorial/basic_operations.html#lambdify) the output and plot the array\n",
    "\n",
    "You now have symbolic functions that describe freefall motion:\n",
    "- `x`: $x(t)$ the height of the object\n",
    "- `v`: $v(t)$ the speed of the object\n",
    "- `t_max_x`: the time when $v(t) = 0$\n",
    "- `max_x`: the maximum height of the object\n",
    "- `t_ground`: two solutions when $x(t) = 0$\n",
    "\n",
    "Each of these SymPy variables are exact symbolic functions. Next, you will `lambdify` the functions so you can call them and create arrays to plot, compare, etc.\n",
    "Start with `x` and create a function, `x_array`:"
   ]
  },
  {
   "cell_type": "code",
   "execution_count": null,
   "id": "1131bd59",
   "metadata": {},
   "outputs": [],
   "source": [
    "x_array = sympy.lambdify([t, a, v_0, x_0], x, 'numpy' )"
   ]
  },
  {
   "cell_type": "markdown",
   "id": "714a2a89",
   "metadata": {},
   "source": [
    "The inputs for `x_array` are \n",
    "- `t`: time _can be single value or arrays\n",
    "- `a`: acceleration _for freefall its $a = -9.81~m/s^2$_\n",
    "- `v_0`: initial velocity\n",
    "- `x_0`: initial position\n",
    "\n",
    "Consider throwing a baseball upwards at $v_0=10~m/s$ from $x_0=1~m$. The maximum height will be at time `t_max_x`:"
   ]
  },
  {
   "cell_type": "code",
   "execution_count": null,
   "id": "923546c1",
   "metadata": {},
   "outputs": [],
   "source": [
    "t_max_array = sympy.lambdify([a, v_0, x_0], t_max_x, 'numpy')\n",
    "\n",
    "x0_baseball = 1\n",
    "v0_baseball = 10\n",
    "g = -9.81\n",
    "\n",
    "t_max_baseball = t_max_array(g, v0_baseball, x0_baseball)\n",
    "max_x_baseball = x_array(t_max_baseball, g, v0_baseball, x0_baseball)\n",
    "\n",
    "print('max height of baseball will be at time = {:.3f} s, {:.3f} m high'.format(t_max_baseball, max_x_baseball))"
   ]
  },
  {
   "cell_type": "markdown",
   "id": "db57670e",
   "metadata": {},
   "source": [
    "Because you defined functions for `x_array` and `t_max_array`, you can input different values for `a`, `v_0`, and `x_0` to see the result. Here's an example of maximum height vs initial speed:"
   ]
  },
  {
   "cell_type": "code",
   "execution_count": null,
   "id": "abd075d8",
   "metadata": {},
   "outputs": [],
   "source": [
    "v0_baseball = np.linspace(0, 10)\n",
    "t_max_baseball = t_max_array(g, v0_baseball, x0_baseball)\n",
    "max_x_baseball = x_array(t_max_baseball, g, v0_baseball, x0_baseball)\n",
    "\n",
    "plt.plot(v0_baseball, max_x_baseball)\n",
    "plt.title('Max height of baseball thrown from {} m high \\nwith initial speed on x-axis'.format(x0_baseball))\n",
    "plt.xlabel('initial speed (m/s)')\n",
    "plt.ylabel('max height (m)');"
   ]
  }
 ],
 "metadata": {
  "jupytext": {
   "formats": "ipynb,md:myst",
   "text_representation": {
    "extension": ".md",
    "format_name": "myst",
    "format_version": 0.13,
    "jupytext_version": "1.10.3"
   }
  },
  "kernelspec": {
   "display_name": "Python 3",
   "language": "python",
   "name": "python3"
  },
  "language_info": {
   "codemirror_mode": {
    "name": "ipython",
    "version": 3
   },
   "file_extension": ".py",
   "mimetype": "text/x-python",
   "name": "python",
   "nbconvert_exporter": "python",
   "pygments_lexer": "ipython3",
   "version": "3.9.7"
  },
  "source_map": [
   15,
   22,
   38,
   47,
   50,
   54,
   62,
   65,
   74,
   80,
   83,
   87,
   91,
   95,
   98,
   102,
   107,
   111,
   125,
   127,
   137,
   148,
   152
  ]
 },
 "nbformat": 4,
 "nbformat_minor": 5
}