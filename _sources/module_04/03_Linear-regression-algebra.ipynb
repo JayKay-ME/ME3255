{
 "cells": [
  {
   "cell_type": "markdown",
   "id": "bb630d42",
   "metadata": {},
   "source": [
    "# Linear Regression Algebra\n",
    "\n",
    "In the second Module [CompMech02-Analyze-Data](../module_02/README), you\n",
    "imported data from the [NOAA](https://www.ncdc.noaa.gov/cag/) (National\n",
    "Oceanic and Atmospheric Administration) youbpage. Then, you did a\n",
    "piece-wise linear regression fit, but the lines youre disconnected. In\n",
    "this notebook, you will look at __general linear regression__, which is\n",
    "framing the our __least-sum-of-squares error__ as a linear algebra\n",
    "problem."
   ]
  },
  {
   "cell_type": "code",
   "execution_count": 1,
   "id": "53f2a939",
   "metadata": {
    "jupyter": {
     "source_hidden": true
    },
    "tags": []
   },
   "outputs": [],
   "source": [
    "import numpy as np\n",
    "import pandas as pd\n",
    "import matplotlib.pyplot as plt\n",
    "plt.style.use('fivethirtyeight')"
   ]
  },
  {
   "cell_type": "markdown",
   "id": "93c2b236",
   "metadata": {},
   "source": [
    "### Polynomials\n",
    "\n",
    "In general, you may want to fit other polynomials besides degree-1\n",
    "(straight-lines). You used the `numpy.polyfit` to accomplish this task\n",
    "before\n",
    "[[1]](https://docs.scipy.org/doc/numpy/reference/generated/numpy.polyfit.html). \n",
    "\n",
    "$y=a_{0}+a_{1}x+a_{2}x^{2}+\\cdots+a_{m}x^{m}+e$\n",
    "\n",
    "Now, the solution for $a_{0},~a_{1},...a_{m}$ is the minimization of m+1-dependent linear equations. \n",
    "\n",
    "Consider the following data:\n",
    "\n",
    "| x | y |\n",
    "|---|---|\n",
    "| 0.00 | 21.50 |\n",
    "| 2.00 | 20.84 |\n",
    "| 4.00 | 23.19 |\n",
    "| 6.00 | 22.69 |\n",
    "| 8.00 | 30.27 |\n",
    "| 10.00 | 40.11 |\n",
    "| 12.00 | 43.31 |\n",
    "| 14.00 | 54.79 |\n",
    "| 16.00 | 70.88 |\n",
    "| 18.00 | 89.48 |"
   ]
  },
  {
   "cell_type": "code",
   "execution_count": 2,
   "id": "551969d5",
   "metadata": {},
   "outputs": [
    {
     "data": {
      "text/plain": [
       "Text(0, 0.5, 'y')"
      ]
     },
     "execution_count": 2,
     "metadata": {},
     "output_type": "execute_result"
    },
    {
     "data": {
      "image/png": "[encoded data removed]",
      "text/plain": [
       "<Figure size 640x480 with 1 Axes>"
      ]
     },
     "metadata": {},
     "output_type": "display_data"
    }
   ],
   "source": [
    "xy_data = np.loadtxt('../data/xy_data.csv',delimiter=',')\n",
    "x=xy_data[:,0];\n",
    "y=xy_data[:,1];\n",
    "plt.plot(x,y,'o')\n",
    "plt.xlabel('x')\n",
    "plt.ylabel('y')"
   ]
  },
  {
   "cell_type": "markdown",
   "id": "e0f9ba33",
   "metadata": {},
   "source": [
    "A general polynomial decription of our function, $f(\\mathbf{x}),~and~\\mathbf{y}$ is that you have $m+1$ unknown coefficients, where $m$ is the degree of the polynomial, and $n$ independent equations. In the example framed below, you are choosing a second-order polnomial fit. \n",
    "\n",
    "$\\mathbf{y}=\\mathbf{x}^0 a_0+\\mathbf{x}^1 a_1+\\mathbf{x}^2 a_2+\\mathbf{e}$\n",
    "\n",
    "$\\mathbf{y}=\\left[\\mathbf{Z}\\right]\\mathbf{a}+\\mathbf{e}$\n",
    "\n",
    "where $\\mathbf{a}=\\left[\\begin{array}{c}\n",
    "        a_{0}\\\\\n",
    "        a_{1}\\\\\n",
    "        a_{2}\\end{array}\\right]$\n",
    "\n",
    "$\\mathbf{y}=\\left[\\begin{array} \n",
    " 1y_{1}  \\\\\n",
    " y_{2}  \\\\\n",
    " y_{3}  \\\\\n",
    " y_{4}  \\\\\n",
    " y_{5}  \\\\\n",
    " y_{6}  \\\\\n",
    " y_{7}  \\\\\n",
    " y_{8}  \\\\\n",
    " y_{9}  \\\\\n",
    " y_{10} \\end{array}\\right]$\n",
    "$~~~~[\\mathbf{Z}]=\\left[\\begin{array} \n",
    "11 & x_{1} & x_{1}^{2} \\\\\n",
    "1 & x_{2} & x_{2}^{2} \\\\\n",
    "1 & x_{3} & x_{3}^{2} \\\\\n",
    "1 & x_{4} & x_{4}^{2} \\\\\n",
    "1 & x_{5} & x_{5}^{2} \\\\\n",
    "1 & x_{6} & x_{6}^{2} \\\\\n",
    "1 & x_{7} & x_{7}^{2} \\\\\n",
    "1 & x_{8} & x_{8}^{2} \\\\\n",
    "1 & x_{9} & x_{9}^{2} \\\\\n",
    "1 & x_{10} & x_{10}^{2} \\end{array}\\right]$\n",
    "\n",
    "The sum of squares residuals for this model is formed by solving for $\\mathbf{e}$, then summing the square of the elements\n",
    "\n",
    "$\\mathbf{e} = \\mathbf{y}-\\mathbf{Za}$\n",
    "\n",
    "$S_{r}=\\sum_{i=1}^{n}\\left(y_{i}-\\sum_{j=0}^{m}a_{j}z_{ji}\\right)^2$\n",
    "\n",
    "Minimizing this function, $S_r$ results in the following set of linear equations, \n",
    "\n",
    "$\\mathbf{y}=[\\mathbf{Z}]\\mathbf{a}$\n",
    "\n",
    "->**A standard Linear Algebra Problem**\n",
    "\n",
    "*the vector a is unknown, and Z is calculated based upon the assumed function*"
   ]
  },
  {
   "cell_type": "code",
   "execution_count": 3,
   "id": "a0ed4fef",
   "metadata": {},
   "outputs": [
    {
     "data": {
      "text/plain": [
       "array([[  0.,   0.,   1.],\n",
       "       [  4.,   2.,   1.],\n",
       "       [ 16.,   4.,   1.],\n",
       "       [ 36.,   6.,   1.],\n",
       "       [ 64.,   8.,   1.],\n",
       "       [100.,  10.,   1.],\n",
       "       [144.,  12.,   1.],\n",
       "       [196.,  14.,   1.],\n",
       "       [256.,  16.,   1.],\n",
       "       [324.,  18.,   1.]])"
      ]
     },
     "execution_count": 3,
     "metadata": {},
     "output_type": "execute_result"
    }
   ],
   "source": [
    "Z=np.block([[x**2],[x],[x**0]]).T\n",
    "\n",
    "Z"
   ]
  },
  {
   "cell_type": "markdown",
   "id": "9e4dafb4",
   "metadata": {},
   "source": [
    "Try to solve the problem using the built-in `np.linalg.solve` function. \n",
    "\n",
    "```python\n",
    ">>> np.linalg.solve(Z,y)\n",
    "\n",
    "---------------------------------------------------------------------------\n",
    "LinAlgError                               Traceback (most recent call last)\n",
    "<ipython-input-4-7141fd6fdc3e> in <module>\n",
    "----> 1 np.linalg.solve(Z,y)\n",
    "\n",
    "<__array_function__ internals> in solve(*args, **kwargs)\n",
    "\n",
    "~/.conda/envs/work/lib/python3.9/site-packages/numpy/linalg/linalg.py in solve(a, b)\n",
    "    378     a, _ = _makearray(a)\n",
    "    379     _assert_stacked_2d(a)\n",
    "--> 380     _assert_stacked_square(a)\n",
    "    381     b, wrap = _makearray(b)\n",
    "    382     t, result_t = _commonType(a, b)\n",
    "\n",
    "~/.conda/envs/work/lib/python3.9/site-packages/numpy/linalg/linalg.py in _assert_stacked_square(*arrays)\n",
    "    201         m, n = a.shape[-2:]\n",
    "    202         if m != n:\n",
    "--> 203             raise LinAlgError('Last 2 dimensions of the array must be square')\n",
    "    204 \n",
    "    205 def _assert_finite(*arrays):\n",
    "\n",
    "LinAlgError: Last 2 dimensions of the array must be square\n",
    "```\n",
    "\n",
    "### Reframe the least-square problem\n",
    "\n",
    "The solving routines that you have used (`linalg.solve` and __Gauss elimination__) all require a square matrix, so an $m\\times m$ matrix. For $m$ unknowns, there should be $m$ equations. Let's revisit the least squares regression description\n",
    "\n",
    "$~~\\mathbf{y}~~~~~=~~[\\mathbf{Z}]~~~~~~\\mathbf{a}$\n",
    "\n",
    "$[n\\times 1]~ [n\\times m][m\\times 1]$\n",
    "\n",
    "or for the second-order polynomial and 10 x- and y-points, \n",
    "\n",
    "$~~\\mathbf{y}~~~~~=~~[\\mathbf{Z}]~~~~~~\\mathbf{a}$\n",
    "\n",
    "$[10\\times 1]~ [10\\times 3][3\\times 1]$\n",
    "\n",
    "One way to make any matrix square is to multiply the matrix by its transpose, $Z^T Z$ is $[3\\times 10][10 \\times 3]=[3 \\times 3]$\n",
    "\n",
    "$~~~~~~~~~~~\\mathbf{Z^Ty}~~~~~~~=~~~~~~~~[\\mathbf{Z^T Z}]~~~~~~~~~~~\\mathbf{a}$\n",
    "\n",
    "$|[3\\times 10][10\\times 1]|~ |[3\\times 10][10\\times 3]|[3\\times 1]$\n",
    "\n",
    "Our final least squares linear regression is as follows\n",
    "\n",
    "$\\mathbf{Z^Ty}=[\\mathbf{Z^T Z}]\\mathbf{a}$\n",
    "\n",
    "which is a $[3\\times 1]=[3 \\times 3][3 \\times 1]$, set of equations."
   ]
  },
  {
   "cell_type": "code",
   "execution_count": 4,
   "id": "8322f280",
   "metadata": {},
   "outputs": [
    {
     "data": {
      "text/plain": [
       "array([ 0.2763447 , -1.36268939, 22.46690909])"
      ]
     },
     "execution_count": 4,
     "metadata": {},
     "output_type": "execute_result"
    }
   ],
   "source": [
    "a = np.linalg.solve(Z.T@Z,Z.T@y)\n",
    "a"
   ]
  },
  {
   "cell_type": "code",
   "execution_count": 5,
   "id": "a6f22932",
   "metadata": {},
   "outputs": [
    {
     "data": {
      "image/png": "[encoded data removed]",
      "text/plain": [
       "<Figure size 640x480 with 1 Axes>"
      ]
     },
     "metadata": {},
     "output_type": "display_data"
    }
   ],
   "source": [
    "x_fcn=np.linspace(min(x),max(x));\n",
    "plt.plot(x,y,'o',label='data')\n",
    "plt.plot(x,Z@a,label='quadratic fit')\n",
    "plt.xlabel('x')\n",
    "plt.ylabel('y')\n",
    "plt.legend();"
   ]
  },
  {
   "cell_type": "markdown",
   "id": "cf13d683",
   "metadata": {},
   "source": [
    "### Exercise\n",
    "\n",
    "The quadratic curve plotted should be smooth, but matplotlib connected each (x,y)-location provided with straight lines. Plot the quadratic fit with 50 x-data points to make it smooth."
   ]
  },
  {
   "cell_type": "code",
   "execution_count": null,
   "id": "ee46b586",
   "metadata": {},
   "outputs": [],
   "source": []
  },
  {
   "cell_type": "markdown",
   "id": "a08a50b4",
   "metadata": {},
   "source": [
    "## General Coefficient of Determination\n",
    "\n",
    "The __coefficient of determination__ is a measure of how much the standard deviation is due to random error when the data is fit to a function. You make the assumption that the data has some underlying correlation in the form of a function $\\mathbf{y}=f(\\mathbf{x})$. So if you subtract the measured $\\mathbf{y}-f(\\mathbf{x})$ the result should be random error associated with noise [4]. \n",
    "\n",
    "The general coefficient of determination is defined as $r^2$, \n",
    "\n",
    "$r^{2}=\\frac{S_{t}-S_{r}}{S_{t}}=1-\\frac{S_{r}}{S_t}$\n",
    "\n",
    "where $r$ is the correlation coefficient, $S_t$ is the standard deviation of the measured $\\mathbf{y}$, and $S_r$ is the standard deviation of the __residuals__, $\\mathbf{e} = \\mathbf{y}-f(\\mathbf{x}) = \\mathbf{y}-\\mathbf{Za}$."
   ]
  },
  {
   "cell_type": "code",
   "execution_count": 6,
   "id": "8fc976d8",
   "metadata": {},
   "outputs": [],
   "source": [
    "St=np.std(y)\n",
    "Sr=np.std(y-Z@a)"
   ]
  },
  {
   "cell_type": "code",
   "execution_count": 7,
   "id": "0daa9d43",
   "metadata": {},
   "outputs": [
    {
     "name": "stdout",
     "output_type": "stream",
     "text": [
      "the coefficient of determination for this fit is 0.9111905603853598\n",
      "the correlation coefficient this fit is 0.954563020646285\n"
     ]
    }
   ],
   "source": [
    "r2=1-Sr/St;\n",
    "r=np.sqrt(r2);\n",
    "\n",
    "print('the coefficient of determination for this fit is {}'.format(r2))\n",
    "print('the correlation coefficient this fit is {}'.format(r))"
   ]
  },
  {
   "cell_type": "markdown",
   "id": "20819854",
   "metadata": {},
   "source": [
    "### Discussion\n",
    "\n",
    "What is the highest possible coefficient of determination? If its maximized, is that a _good_ thing?\n",
    "\n",
    "### Exercise\n",
    "\n",
    "Compare the coefficient of determination for a straight line _(you have to do a fit)_ to the quadratic fit _(done above)_. Which one is a better fit?"
   ]
  },
  {
   "cell_type": "code",
   "execution_count": null,
   "id": "81a61704",
   "metadata": {},
   "outputs": [],
   "source": []
  },
  {
   "cell_type": "markdown",
   "id": "391aded1",
   "metadata": {},
   "source": [
    "## Overfitting Warning \n",
    "**Coefficient of determination reduction does not always mean a better fit**\n",
    "\n",
    "You will always increase the coefficient of determination and decrease the total sum of squares error by adding more terms to your function. This is called __overfitting__ your data. It is especially evident in polynomial fits, because they can behave unpredictably with higher order terms. \n",
    "\n",
    "## Nanonindentation data engineering model vs higher-order fit\n",
    "\n",
    "Now, use experimental data from some [atomic force microscope nanoindentation of $MoS_2$ [2]](https://pdfs.semanticscholar.org/68c4/0c4eef562e2ac785fb7b4bcd6ee8229f2424.pdf). One of the nanoidentation experimental data files is in the data folder (`../data/mos2_afm.csv`). \n",
    "\n",
    "The experiment pushes an AFM tip into the center of a hole covered with\n",
    "a single layer of $MoS_2$, 0.6-nm thick. A diagram is shown below. \n",
    "\n",
    "<img src=\"https://github.com/cooperrc/computational-mechanics/blob/master/images/afm_mos2.png?raw=true\" style=\"width: 300px;\"/> \n",
    "\n",
    "As the center of a thin sheet of $MoS_2$ is pushed downwards the tension increases, resulting in higher measured force. An engineering equation for this increase in force is as such\n",
    "\n",
    "$F = A\\delta + B \\delta^3$\n",
    "\n",
    "where $\\delta$ is the deflection of the sheet (z in the data), $A=\\pi\\sigma_0t$,  $B=1.09Et/r^2$, $\\sigma_0$ is the prestress in the sheet, $E$ is the Young's modulus, $t=0.6~nm$ is the thickness, and $r=260~nm$ is the radius of the sheet (they youre designed to be 250 nm, but there is some variation in microfabrication)."
   ]
  },
  {
   "cell_type": "code",
   "execution_count": 8,
   "id": "d702fe7b",
   "metadata": {},
   "outputs": [
    {
     "name": "stdout",
     "output_type": "stream",
     "text": [
      "Z (nm),F (nN)\r\n",
      "0,0\r\n",
      "-0.011669,0.9\r\n",
      "-0.0058346,0.45\r\n",
      "0.3075,-1.35\r\n",
      "0.29583,-0.45\r\n",
      "0.5725,1.35\r\n",
      "0.57833,0.9\r\n",
      "0.5607,2.26\r\n",
      "0.85666,1.8\r\n"
     ]
    }
   ],
   "source": [
    "! head ../data/mos2_afm.csv"
   ]
  },
  {
   "cell_type": "markdown",
   "id": "f03529b5",
   "metadata": {},
   "source": [
    "### Build a statistical model with Python's Statsmodel\n",
    "\n",
    "In the first Linear regression example in linear algebra, you built the $\\mathbf{Z}$ matrix and set up the least squares problem in the form\n",
    "\n",
    "$\\mathbf{Z}^T\\mathbf{ZA} = \\mathbf{Z}^T\\mathbf{y}$.\n",
    "\n",
    "Now, try using the [`statsmodel.ols`](https://www.statsmodels.org/stable/generated/statsmodels.regression.linear_model.OLS.html) ordinary least squares statistical model solution. You use `ols` in two steps\n",
    "\n",
    "1. build the model with the function and the measurements, $\\mathbf{Z}~and~\\mathbf{y}$\n",
    "2. use the `fit` function to get statistical information about your best-fit model"
   ]
  },
  {
   "cell_type": "code",
   "execution_count": 9,
   "id": "4dca476c",
   "metadata": {},
   "outputs": [
    {
     "ename": "ModuleNotFoundError",
     "evalue": "No module named 'statsmodels'",
     "output_type": "error",
     "traceback": [
      "\u001b[0;31m---------------------------------------------------------------------------\u001b[0m",
      "\u001b[0;31mModuleNotFoundError\u001b[0m                       Traceback (most recent call last)",
      "Cell \u001b[0;32mIn[9], line 1\u001b[0m\n\u001b[0;32m----> 1\u001b[0m \u001b[38;5;28;01mimport\u001b[39;00m \u001b[38;5;21;01mstatsmodels\u001b[39;00m\u001b[38;5;21;01m.\u001b[39;00m\u001b[38;5;21;01mapi\u001b[39;00m \u001b[38;5;28;01mas\u001b[39;00m \u001b[38;5;21;01msm\u001b[39;00m\n\u001b[1;32m      3\u001b[0m mos2 \u001b[38;5;241m=\u001b[39m np\u001b[38;5;241m.\u001b[39mloadtxt(\u001b[38;5;124m'\u001b[39m\u001b[38;5;124m../data/mos2_afm.csv\u001b[39m\u001b[38;5;124m'\u001b[39m,delimiter\u001b[38;5;241m=\u001b[39m\u001b[38;5;124m'\u001b[39m\u001b[38;5;124m,\u001b[39m\u001b[38;5;124m'\u001b[39m,skiprows\u001b[38;5;241m=\u001b[39m\u001b[38;5;241m1\u001b[39m)\n\u001b[1;32m      4\u001b[0m d \u001b[38;5;241m=\u001b[39m mos2[:,\u001b[38;5;241m0\u001b[39m] \u001b[38;5;66;03m# deflection data\u001b[39;00m\n",
      "\u001b[0;31mModuleNotFoundError\u001b[0m: No module named 'statsmodels'"
     ]
    }
   ],
   "source": [
    "import statsmodels.api as sm\n",
    "\n",
    "mos2 = np.loadtxt('../data/mos2_afm.csv',delimiter=',',skiprows=1)\n",
    "d = mos2[:,0] # deflection data\n",
    "F = mos2[:,1] # force data\n",
    "Z = d[:, np.newaxis]**[3, 1]\n",
    "y = F\n",
    "\n",
    "model = sm.OLS(y, Z)"
   ]
  },
  {
   "cell_type": "markdown",
   "id": "02317d56",
   "metadata": {},
   "source": [
    "Now, you have a variable, `model`, that contains the measured values of force and assumed function, $F=A_0 \\delta^3 + A_1 \\delta^1$. Save the statistical output in the variable `results`. The `statsmodel` fit contains _a lot_ of information. For now, look at two of the outputs\n",
    "\n",
    "1. `results.params`: the coefficients $A_0~and~A_1$\n",
    "1. `results.summary`: a statistical report on the best-fit model including\n",
    "    - standard error of coefficients, **std error**\n",
    "    - coefficient of determination **R-squared**"
   ]
  },
  {
   "cell_type": "code",
   "execution_count": null,
   "id": "bde498fb",
   "metadata": {},
   "outputs": [],
   "source": [
    "results = model.fit()\n",
    "A = results.params\n",
    "print('coeffictients are A0 = {}, A1 = {}'.format(*A))\n",
    "print('Statsmodel summary of model')\n",
    "plt.plot(d, F)\n",
    "plt.plot(d,F,'.',label='afm data')\n",
    "plt.plot(d,Z@results.params,label='best fit curve')\n",
    "plt.title('Best fit curve and AFM data')\n",
    "plt.xlabel('deflection (nm)')\n",
    "plt.ylabel('Force (nN)')\n",
    "plt.legend();\n",
    "results.summary()"
   ]
  },
  {
   "cell_type": "code",
   "execution_count": null,
   "id": "845d67e4",
   "metadata": {},
   "outputs": [],
   "source": [
    "results?"
   ]
  },
  {
   "cell_type": "code",
   "execution_count": null,
   "id": "1e0190c3",
   "metadata": {},
   "outputs": [],
   "source": [
    "print('Youngs modulus from fit = {:.0f} GPa'.format(A[0]/1.09/0.61*260**2))\n",
    "print('Youngs modulus reported = 210 GPa')"
   ]
  },
  {
   "cell_type": "markdown",
   "id": "9debd2fe",
   "metadata": {},
   "source": [
    "### Beyond polynomials\n",
    "\n",
    "Linear Regression is only limited by the ability to separate the parameters from the function to achieve\n",
    "\n",
    "$\\mathbf{y}=[\\mathbf{Z}]\\mathbf{a}$\n",
    "\n",
    "$\\mathbf{Z}$ can be any function of the independent variable(s). \n",
    "\n",
    "**Example**:\n",
    "Let's take some voltage-vs-time data that you know has two frequency components, $\\sin(t)$ and $\\sin(3t)$. You want to know what amplitudes are associated with each signal. \n",
    "\n",
    "$\\mathbf{V}_{measured}=[\\sin(t) \\sin(3t)][amp_{1t},~amp_{3t}]^T$"
   ]
  },
  {
   "cell_type": "code",
   "execution_count": null,
   "id": "ef067d4d",
   "metadata": {},
   "outputs": [],
   "source": [
    "sin_data = np.loadtxt('../data/sin_data.csv')\n",
    "t = sin_data[0,:];\n",
    "V = sin_data[1,:];\n",
    "plt.plot(t,V)\n",
    "plt.xlabel('time (s)')\n",
    "plt.ylabel('voltage (V)');"
   ]
  },
  {
   "cell_type": "code",
   "execution_count": null,
   "id": "f2d46ab9",
   "metadata": {},
   "outputs": [],
   "source": [
    "Z = np.block([[np.sin(t)],[np.sin(3*t)]]).T\n",
    "model = sm.OLS(V, Z)\n",
    "results = model.fit()\n",
    "amps = results.params"
   ]
  },
  {
   "cell_type": "code",
   "execution_count": null,
   "id": "aa23d6fd",
   "metadata": {},
   "outputs": [],
   "source": [
    "plt.plot(t, V, 's')\n",
    "plt.plot(t, Z@amps)\n",
    "plt.title('Amplitudes of sin(t) and sin(3t) signals\\n {:.3f} V and {:.3f} V'.format(*amps));"
   ]
  },
  {
   "cell_type": "markdown",
   "id": "86db2f99",
   "metadata": {},
   "source": [
    "## Fitting the Global Temperature Anomolies again\n",
    "\n",
    "Now, you have the right tools to fit our Global temperature anomolies properly. Let's create a function with three constants\n",
    "\n",
    "$f(t)= A\\cdot t+B+ C\\cdot H(t-1970)(t)$\n",
    "\n",
    "Where, $A$ is the slope from time 1880-1970, B is the intercept\n",
    "(extrapolated temp anomoly at 0 A.D.), and C is the increase in slope\n",
    "after 1970, activated with a heaviside function, $H(t-1970)=$ `t>=1970`. Our regression is still linear because each constant can be pulled out of our function to form $\\mathbf{Z}$. \n",
    "\n",
    "$\\mathbf{Temp} = [t~~t^0~~(t-1970)\\cdot H(t-1970)][A,~B,~C]^T$"
   ]
  },
  {
   "cell_type": "code",
   "execution_count": null,
   "id": "996bf589",
   "metadata": {},
   "outputs": [],
   "source": [
    "fname = '../data/land_global_temperature_anomaly-1880-2016.csv'\n",
    "\n",
    "temp_data = pd.read_csv(fname,skiprows=4)\n",
    "\n",
    "t = temp_data['Year'].values\n",
    "T = temp_data['Value'].values\n",
    "\n",
    "Z= np.block([[t],[t**0],[(t-1970)*(t>=1970)]]).T\n",
    "\n",
    "print('This is every 10th row of Z')\n",
    "print('---------------------------')\n",
    "print(Z[::10])"
   ]
  },
  {
   "cell_type": "code",
   "execution_count": null,
   "id": "a39efdac",
   "metadata": {},
   "outputs": [],
   "source": [
    "fit = np.linalg.solve(Z.T@Z,Z.T@T)\n",
    "#print(Z)\n",
    "\n",
    "plt.plot(t,T,'o-',label='measured anomoly')\n",
    "plt.plot(t,Z@fit,label='piece-wise best-fit')\n",
    "plt.title('Piecewise fit to temperature anomoly')\n",
    "plt.legend();"
   ]
  },
  {
   "cell_type": "markdown",
   "id": "843ac418",
   "metadata": {},
   "source": [
    "## What You've Learned\n",
    "\n",
    "* How to use the _general least squares regression_ method for almost any function\n",
    "* How to calculate the coefficient of determination and correlation coefficient for a general least squares regression, $r^2~ and~ r$\n",
    "* Why you need to avoid __overfitting__\n",
    "* How to construct general least squares regression using the dependent and independent data to form $\\mathbf{y}=\\mathbf{Za}$. \n",
    "* How to construct a piecewise linear regression \n",
    "\n",
    "## References\n",
    "\n",
    "1. [Numpy polyfit documentation](https://docs.scipy.org/doc/numpy/reference/generated/numpy.polyfit.html)\n",
    "\n",
    "2. [Cooper _et. al_ 2014. Nonlinear Elastic Constants of $MoS_2$. _Phys. Rev. B_ 2013.](https://pdfs.semanticscholar.org/68c4/0c4eef562e2ac785fb7b4bcd6ee8229f2424.pdf)\n",
    "\n",
    "3. [Figueroa _et al._ Stress Relaxation and Creep Recovery Tests Performed on Wheat Kernels Versus Doughs: Influence of Glutenins on Rheological and Quality Properties. ](https://www.cerealsgrains.org/publications/plexus/cfw/pastissues/2013/Documents/CFW-58-3-0139.pdf)\n",
    "\n",
    "4. Chapra, Steven _Applied Numerical Methods with Matlab for Engineers._ __ch 14.__ McGraw Hill.\n",
    "\n",
    "5. [Koerson, William. Overfitting vs. Underfitting: A Complete Example](https://towardsdatascience.com/overfitting-vs-underfitting-a-complete-example-d05dd7e19765)"
   ]
  }
 ],
 "metadata": {
  "jupytext": {
   "formats": "notebooks//ipynb,md:myst",
   "text_representation": {
    "extension": ".md",
    "format_name": "myst",
    "format_version": 0.13,
    "jupytext_version": "1.10.3"
   }
  },
  "kernelspec": {
   "display_name": "Python 3",
   "language": "python",
   "name": "python3"
  },
  "language_info": {
   "codemirror_mode": {
    "name": "ipython",
    "version": 3
   },
   "file_extension": ".py",
   "mimetype": "text/x-python",
   "name": "python",
   "nbconvert_exporter": "python",
   "pygments_lexer": "ipython3",
   "version": "3.10.14"
  },
  "source_map": [
   13,
   25,
   35,
   63,
   70,
   120,
   124,
   181,
   186,
   193,
   199,
   201,
   213,
   218,
   224,
   234,
   236,
   258,
   260,
   273,
   283,
   292,
   307,
   311,
   314,
   329,
   338,
   345,
   349,
   363,
   378,
   386
  ]
 },
 "nbformat": 4,
 "nbformat_minor": 5
}