{
 "cells": [
  {
   "cell_type": "markdown",
   "id": "611679ac",
   "metadata": {},
   "source": [
    "> __Content modified under Creative Commons Attribution license CC-BY\n",
    "> 4.0, code under BSD 3-Clause License © 2020 R.C. Cooper__\n",
    "\n",
    "# Homework"
   ]
  },
  {
   "cell_type": "code",
   "execution_count": 1,
   "id": "3a13f5bb",
   "metadata": {},
   "outputs": [],
   "source": [
    "import numpy as np\n",
    "import matplotlib.pyplot as plt\n",
    "plt.style.use('fivethirtyeight')"
   ]
  },
  {
   "cell_type": "markdown",
   "id": "4c9bebf4",
   "metadata": {},
   "source": [
    "## Problems [Part 1](./01_Catch_Motion.md)\n",
    "\n",
    "**1.** Instead of using $\\frac{\\Delta v}{\\Delta t}$, you can use the [numpy polyfit](https://docs.scipy.org/doc/numpy/reference/generated/numpy.polyfit.html) to determine the acceleration of the ball. \n",
    "\n",
    "a. Use your coordinates from the saved .npz file you used above to load your projectile motion data\n",
    "\n",
    "```python\n",
    "npz_coords = np.load('projectile_coords.npz')\n",
    "t = npz_coords['t']\n",
    "x = npz_coords['x']\n",
    "y = npz_coords['y']\n",
    "```\n",
    "\n",
    "c. Use a second-order polynomial fit for x- and y- vs t. What is acceleration now?\n",
    "\n",
    "d. Plot the polyfit lines for position and time (2 figures) with the\n",
    "positions vs time. Do the fits match the data?"
   ]
  },
  {
   "cell_type": "code",
   "execution_count": null,
   "id": "4e2ec317",
   "metadata": {},
   "outputs": [],
   "source": []
  },
  {
   "cell_type": "markdown",
   "id": "9bb8b354",
   "metadata": {},
   "source": [
    "**2.** Not only can you measure acceleration of objects that you track, you can look at other physical constants like [coefficient of restitution](https://en.wikipedia.org/wiki/Coefficient_of_restitution), $e$ . \n",
    "\n",
    "     During a collision with the ground, the coefficient of restitution is\n",
    "     \n",
    "     $e = -\\frac{v_{y}'}{v_{y}}$ . \n",
    "     \n",
    "     Where $v_y'$ is y-velocity perpendicular to the ground after impact\n",
    "     and $v_y$ is the y-velocity before impact. \n",
    "     \n",
    "a. Calculate $v_y$ and plot as a function of time from the data `'../data/fallingtennisball02.txt'`\n",
    "\n",
    "b. Find the locations when $v_y$ changes rapidly i.e. the impact locations. Get the maximum and minimum velocities closest to the impact location. _Hint: this can be a little tricky. Try slicing the data to include one collision at a time before using  the `np.min` and `np.max` commands._\n",
    "\n",
    "c. Calculate the $e$ for each of the three collisions"
   ]
  },
  {
   "cell_type": "code",
   "execution_count": null,
   "id": "78de27bb",
   "metadata": {},
   "outputs": [],
   "source": []
  },
  {
   "cell_type": "markdown",
   "id": "f94c3a02",
   "metadata": {},
   "source": [
    "## Problems [Part 2](./02_Step_Future.md)\n",
    "\n",
    "**1.** Integrate the `fall_drag` equations for a tennis ball and a [lacrosse ball](https://en.wikipedia.org/wiki/Lacrosse_ball) with the same initial conditions as above. Plot the resulting height vs time. \n",
    "\n",
    "_Given:_ y(0) = 10 m, v(0) = 0 m/s\n",
    "\n",
    "|ball| diameter | mass|\n",
    "|---|---|---|\n",
    "|tennis| $6.54$–$6.86 \\rm{cm}$ |$56.0$–$59.4 \\rm{g}$|\n",
    "|lacrosse| $6.27$–$6.47 \\rm{cm}$ |$140$–$147 \\rm{g}$|\n",
    "\n",
    "Is there a difference in the two solutions? At what times do the tennis ball and lacrosse balls reach the ground? Which was first?"
   ]
  },
  {
   "cell_type": "code",
   "execution_count": null,
   "id": "b3a26717",
   "metadata": {},
   "outputs": [],
   "source": []
  },
  {
   "cell_type": "markdown",
   "id": "8ea35feb",
   "metadata": {},
   "source": [
    "**2.** A pendulum that swings in small angles follows a $\\theta_0 \\cos\n",
    "\\omega t$ where $\\theta_0$ is the initial angle that its released from\n",
    "rest and $\\omega$ is the natural frequency of the pendulum. The\n",
    "underlying differential equation is \n",
    "\n",
    "$\\ddot{\\theta} = -\\frac{g}{L}\\cos\\theta$\n",
    "\n",
    "a. Create a `pendulum` fuction that returns $[\\dot{\\theta},~\\ddot{\\theta}]$ when its given $[\\theta,~\\dot{\\theta}]$\n",
    "\n",
    "b. Integrate the `pendulum` function for 2 periods of oscillation given initial conditions of $y_0 = [\\frac{\\pi}{6}~rad,~0~rad/s]$, $g = 9.81~m/s^2$, and $L = 1~m$. Plot the angle as a function of time, $\\theta-vs-t$."
   ]
  },
  {
   "cell_type": "code",
   "execution_count": 2,
   "id": "ead72fdd",
   "metadata": {},
   "outputs": [],
   "source": [
    "def pendulum(y, g = 9.81, L = 1):\n",
    "  '''Computes the right-hand side of the differential equation\n",
    "  for the fall of a ball, with drag, in SI units.\n",
    "\n",
    "  Arguments\n",
    "  ----------    \n",
    "  state : array of two dependent variables [theta dtheta]^T\n",
    "  g : acceleration due to gravity\n",
    "  L : length of pendulum \n",
    "  Returns\n",
    "  -------\n",
    "  derivs: array of two derivatives [dtheta (-g/L*sin(theta))]^T\n",
    "  '''\n",
    "  theta, dtheta = y\n",
    "  derivs = np.array([dtheta, 0]) # your work here (replace the 0 with the differential equation\n",
    "  return derivs"
   ]
  },
  {
   "cell_type": "markdown",
   "id": "7bdf6866",
   "metadata": {},
   "source": [
    "## Problems [Part 3](./03_Get_Oscillations.md)\n",
    "\n",
    "**1.** Show that the implicit Heun's method has the same second order convergence as the Modified Euler's method. _Hint: you can use the same code from above to create the log-log plot to get the error between $2\\cos(\\omega t)$ and the `heun_step` integration. Use the same initial conditions x(0) = 2 m and v(0)=0m/s and the same RHS function, `springmass`."
   ]
  },
  {
   "cell_type": "code",
   "execution_count": null,
   "id": "e91678bc",
   "metadata": {},
   "outputs": [],
   "source": []
  },
  {
   "cell_type": "markdown",
   "id": "30db4da6",
   "metadata": {},
   "source": [
    "![A lumped mass connected to a spring and\n",
    "damper](../images/damped-spring.png)"
   ]
  },
  {
   "cell_type": "markdown",
   "id": "bb1ad6d5",
   "metadata": {},
   "source": [
    "**2.** In the image above, you have a spring, mass, _and damper_. A damper is designed to slow down a moving object. These devices are typical in automobiles, mountain bikes, doors, any place where oscillations may not be desired, but motion is required. The new differential equation, if F(t)=0, that results from this addition is\n",
    "\n",
    "$\\ddot{x} = -\\frac{b}{m}\\dot{x} -\\frac{k}{m}x$\n",
    "\n",
    "or keeping our _natural frequency_ above, \n",
    "\n",
    "$\\ddot{x} = -\\zeta\\omega\\dot{x} -\\omega^2x$\n",
    "\n",
    "where $\\zeta$ is a new constant called the __damping ratio__ of a system. When $\\zeta\\gt 1$, there are no oscillations and when $0<\\zeta<1$ the system oscillates, but decays to v=0 m/s eventually. \n",
    "\n",
    "Create the system of equations that returns the right hand side (RHS) of the state equations, e.g. $\\mathbf{\\dot{y}} = f(\\mathbf{y}) = RHS$\n",
    "\n",
    "Use $\\omega = 2$ rad/s and $\\zeta = 0.2$."
   ]
  },
  {
   "cell_type": "code",
   "execution_count": 3,
   "id": "e66d62ec",
   "metadata": {},
   "outputs": [],
   "source": [
    "def smd(state):\n",
    "    '''Computes the right-hand side of the spring-mass-damper\n",
    "    differential equation, without friction.\n",
    "    \n",
    "    Arguments\n",
    "    ---------   \n",
    "    state : array of two dependent variables [x, v]^T\n",
    "    \n",
    "    Returns \n",
    "    -------\n",
    "    derivs: array of two derivatives [v, zeta*w*v - w*w*x]^T\n",
    "    '''\n",
    "    ## your work here ##\n",
    "    \n",
    "    return derivs"
   ]
  },
  {
   "cell_type": "markdown",
   "id": "aef60ae8",
   "metadata": {},
   "source": [
    "**3.** Use three methods to integrate your `smd` function for 3 time periods of oscillation and initial conditions x(0)=2 m and v(0)=0 m/s. Plot the three solutions on one graph with labels. \n",
    "\n",
    "a. Euler integration\n",
    "\n",
    "b. second order Runge Kutta method (modified Euler method)\n",
    "\n",
    "c. the implicit Heun's method\n",
    "\n",
    "How many time steps does each method need to converge to the same results? _Remember that each method has a certain convergence rate_"
   ]
  },
  {
   "cell_type": "code",
   "execution_count": null,
   "id": "563ff1e8",
   "metadata": {},
   "outputs": [],
   "source": []
  },
  {
   "cell_type": "markdown",
   "id": "64a1f09b",
   "metadata": {},
   "source": [
    "## Problems [Part 3](./04_Getting_to_the_root.md)\n",
    "\n",
    "**1.** One of the main benefits of a bracketing method is the stability of solutions. Open methods are not always stable. Here is an example. One way engineers and data scientists model the probability of failure is with a [sigmoid function e.g. this Challenger O-ring case study](https://byuistats.github.io/M325_Hathaway/textbook/challengerLogisticReg.html)\n",
    "\n",
    "$$\\begin{equation}\n",
    "    \\sigma(T) = \\frac{e^{a_0-a_1 T}}{1+e^{a_0-a_1 T}}\n",
    "\\end{equation}$$\n",
    "\n",
    "The Challenger explosion was a terrible incident that occurred due to the failure of an O-ring. The post-mortem data analysis showed that at low temperatures the O-rings were brittle and more likely to fail. You can use the function $\\sigma(T)$ to determine the point at which there is a 50\\% chance of O-ring failure. Using the pass-fail data, the two constants are\n",
    "\n",
    "$a_0 = 15.043$\n",
    "\n",
    "$a_1 = 0.232$\n",
    "\n",
    "a. Plot the function $\\sigma(T)$ for $T=0-100^{o}F$. Where do you see the function cross 50\\% (0.5)?\n",
    "\n",
    "b. Create two functions `f_T` and `dfdT` where `f_T`=$f(T)=\\sigma(T) - 0.5$ and `dfdT`=$\\frac{df}{dT}$\n",
    "\n",
    "c. Use the `incsearch` and `newtraph` functions to find the root of f(T). When does Newton-Raphson fail to converge? Why does it fail? _Hint: if you're stuck here, take a look at this [youtube video finding an interval of convergence for the Newton-Raphson method](https://youtu.be/zyXRo8Qjj0A). Look at the animation of how the method converges and diverges._"
   ]
  },
  {
   "cell_type": "code",
   "execution_count": null,
   "id": "d77ff74c",
   "metadata": {},
   "outputs": [],
   "source": []
  },
  {
   "cell_type": "markdown",
   "id": "462ad633",
   "metadata": {},
   "source": [
    "**2.** In the [Shooting Method\n",
    "   example](https://cooperrc.github.io/computational-mechanics/module_03/04_Getting_to_the_root.html#shooting-method), you determined the initial velocity after the first\n",
    "   bounce by specifying the beginning y(0) and end y(T) for an object\n",
    "   subject to gravity and drag. Repeat this analysis for the time period\n",
    "   just after the second bounce and just before the third bounce. The\n",
    "   indices are given below for t[1430:2051] = 1.43-2.05 seconds.\n",
    "\n",
    "a. What is the velocity just after the second bounce?\n",
    "\n",
    "b. What is the coefficient of restitution for the second bounce? _Hint: use the ratio of the last velocity from above to the initial velocity calculated here._"
   ]
  },
  {
   "cell_type": "code",
   "execution_count": 4,
   "id": "316a857f",
   "metadata": {},
   "outputs": [
    {
     "name": "stdout",
     "output_type": "stream",
     "text": [
      "1.4300000000009008 2.051000000004969\n"
     ]
    },
    {
     "data": {
      "text/plain": [
       "[<matplotlib.lines.Line2D at 0x7a082846feb0>]"
      ]
     },
     "execution_count": 4,
     "metadata": {},
     "output_type": "execute_result"
    },
    {
     "data": {
      "image/png": "[encoded data removed]",
      "text/plain": [
       "<Figure size 640x480 with 1 Axes>"
      ]
     },
     "metadata": {},
     "output_type": "display_data"
    }
   ],
   "source": [
    "filename = '../data/fallingtennisball02.txt'\n",
    "t, y = np.loadtxt(filename, usecols=[0,1], unpack=True)\n",
    "i0=1430\n",
    "ie=2051\n",
    "print(t[i0],t[ie])\n",
    "plt.plot(t,y)\n",
    "plt.plot(t[i0:ie],y[i0:ie],'s')"
   ]
  },
  {
   "cell_type": "code",
   "execution_count": null,
   "id": "1b5eb44f",
   "metadata": {},
   "outputs": [],
   "source": []
  }
 ],
 "metadata": {
  "jupytext": {
   "formats": "notebooks//ipynb,md:myst",
   "text_representation": {
    "extension": ".md",
    "format_name": "myst",
    "format_version": 0.13,
    "jupytext_version": "1.10.3"
   }
  },
  "kernelspec": {
   "display_name": "Python 3",
   "language": "python",
   "name": "python3"
  },
  "language_info": {
   "codemirror_mode": {
    "name": "ipython",
    "version": 3
   },
   "file_extension": ".py",
   "mimetype": "text/x-python",
   "name": "python",
   "nbconvert_exporter": "python",
   "pygments_lexer": "ipython3",
   "version": "3.10.14"
  },
  "source_map": [
   13,
   19,
   23,
   42,
   44,
   61,
   63,
   78,
   80,
   93,
   111,
   117,
   119,
   124,
   140,
   156,
   168,
   170,
   192,
   194,
   207,
   217
  ]
 },
 "nbformat": 4,
 "nbformat_minor": 5
}