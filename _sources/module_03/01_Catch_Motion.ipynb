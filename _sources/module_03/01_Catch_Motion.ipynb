{
 "cells": [
  {
   "cell_type": "markdown",
   "id": "6036ff30",
   "metadata": {},
   "source": [
    "> __Content modified under Creative Commons Attribution license CC-BY\n",
    "> 4.0, code under BSD 3-Clause License © 2020 R.C. Cooper, L.A. Barba,N.C. Clementi__"
   ]
  },
  {
   "cell_type": "markdown",
   "id": "f5905429",
   "metadata": {},
   "source": [
    "# Catch things in motion\n",
    "\n",
    "This module of the _Computational Mechanics_ course is our launching pad to investigate _change_, _motion_, and _dynamics_, using computational thinking, Python, and Jupyter.\n",
    "\n",
    "The foundation of physics and engineering is the subject of **mechanics**: how things move around, when pushed around. Or pulled... in the beginning of the history of mechanics, Galileo and Newton sought to understand how and why objects fall under the pull of gravity.\n",
    "\n",
    "This first lesson will explore motion by analyzing images and video, to learn about velocity and acceleration."
   ]
  },
  {
   "cell_type": "markdown",
   "id": "43e4ec03",
   "metadata": {},
   "source": [
    "## Acceleration of a falling ball\n",
    "\n",
    "Let's start at the beginning. Suppose you want to use video capture of a falling ball to _compute_ the acceleration of gravity. Could you do it? With Python, of course you can!\n",
    "\n",
    "Here is a neat video you found online, produced over at MIT several years ago [1]. It shows a ball being dropped in front of a metered panel, while lit by a stroboscopic light. Watch the video!\n",
    "\n",
    "You can find several toolkits for handling images and video with Python; you'll start with a simple one called [`imageio`](https://imageio.github.io). Import this library like any other, and let's load `numpy` and `pyplot` while you're at it."
   ]
  },
  {
   "cell_type": "code",
   "execution_count": 1,
   "id": "3d12ddf9",
   "metadata": {},
   "outputs": [
    {
     "ename": "ModuleNotFoundError",
     "evalue": "No module named 'imageio'",
     "output_type": "error",
     "traceback": [
      "\u001b[0;31m---------------------------------------------------------------------------\u001b[0m",
      "\u001b[0;31mModuleNotFoundError\u001b[0m                       Traceback (most recent call last)",
      "Cell \u001b[0;32mIn[1], line 1\u001b[0m\n\u001b[0;32m----> 1\u001b[0m \u001b[38;5;28;01mimport\u001b[39;00m \u001b[38;5;21;01mimageio\u001b[39;00m \n\u001b[1;32m      2\u001b[0m \u001b[38;5;28;01mimport\u001b[39;00m \u001b[38;5;21;01mnumpy\u001b[39;00m \u001b[38;5;28;01mas\u001b[39;00m \u001b[38;5;21;01mnp\u001b[39;00m\n\u001b[1;32m      3\u001b[0m \u001b[38;5;28;01mimport\u001b[39;00m \u001b[38;5;21;01mmatplotlib\u001b[39;00m\u001b[38;5;21;01m.\u001b[39;00m\u001b[38;5;21;01mpyplot\u001b[39;00m \u001b[38;5;28;01mas\u001b[39;00m \u001b[38;5;21;01mplt\u001b[39;00m\n",
      "\u001b[0;31mModuleNotFoundError\u001b[0m: No module named 'imageio'"
     ]
    }
   ],
   "source": [
    "import imageio \n",
    "import numpy as np\n",
    "import matplotlib.pyplot as plt\n",
    "plt.style.use('fivethirtyeight')"
   ]
  },
  {
   "cell_type": "markdown",
   "id": "85d262cd",
   "metadata": {},
   "source": [
    "### Read the video\n",
    "\n",
    "With the `get_reader()` method of `imageio`, you can read a video from its source into a _Reader_ object. You don't need to worry too much about the technicalities here—you'll walk you through it all—but check the type, the length (for a video, that's number of frames), and notice you can get info, like the frames-per-second, using `get_meta_data()`.\n",
    "\n",
    "If you do, you suggest to install `imageio-ffmpeg` package, an ffmpeg wrapper for Python that includes the `ffmpeg` executable. You can install it via `conda`:\n",
    "\n",
    " `conda install imageio-ffmpeg -c conda-forge`"
   ]
  },
  {
   "cell_type": "markdown",
   "id": "d96347f2",
   "metadata": {},
   "source": [
    "### Show a video frame in an interactive figure\n",
    "\n",
    "With `imageio`, you can grab one frame of the video, and then use `pyplot` to show it as an image. But you want to interact with the image, somehow.\n",
    "\n",
    "So far in this course, you have used the command `%matplotlib inline` to get our plots rendered _inline_ in a Jupyter notebook. There is an alternative command that gives you some interactivity on the figures: `%matplotlib notebook`. Execute this now, and you'll see what it does below, when you show the image in a new figure.\n",
    "\n",
    "Let's also set some font parameters for our plots in this notebook."
   ]
  },
  {
   "cell_type": "code",
   "execution_count": null,
   "id": "c79f4774",
   "metadata": {},
   "outputs": [],
   "source": [
    "%matplotlib widget"
   ]
  },
  {
   "cell_type": "markdown",
   "id": "ab88d823",
   "metadata": {},
   "source": [
    "Now you can use the `get_data()` method on the `imageio` _Reader_ object, to grab one of the video frames, passing the frame number. Below, you use it to grab frame number 1100, and then print the `shape` attribute to see that it's an \"array-like\" object with three dimensions: they are the pixel numbers in the horizontal and vertical directions, and the number of colors (3 colors in RGB format). Check the type to see that it's an `imageio` _Image_ object.\n",
    "\n",
    "To use this ability, you write a function with the events you want to capture, and then connect this function to the Matplotlib \"event manager\" using [`mpl_connect()`](https://matplotlib.org/devdocs/api/backend_bases_api.html#matplotlib.backend_bases.FigureCanvasBase.mpl_connect). In this case, you connect the `'button_press_event'` to the function named `onclick()`, which captures the $(x,y)$ coordinates of the mouse click on the figure. Magic!"
   ]
  },
  {
   "cell_type": "markdown",
   "id": "b85f9fde",
   "metadata": {},
   "source": [
    "## Projectile motion\n",
    "\n",
    "Now, you'll study projectile motion, using a video of a ball \"fired\" horizontally, like a projectile. Here's a neat video you found online, produced by the folks over at [Flipping Physics](http://www.flippingphysics.com) [2]."
   ]
  },
  {
   "cell_type": "code",
   "execution_count": null,
   "id": "3ec616b8",
   "metadata": {},
   "outputs": [],
   "source": [
    "from IPython.display import YouTubeVideo\n",
    "vid = YouTubeVideo(\"Y4jgJK35Gf0\")\n",
    "display(vid)"
   ]
  },
  {
   "cell_type": "code",
   "execution_count": null,
   "id": "536d10ec",
   "metadata": {},
   "outputs": [],
   "source": [
    "def onclick(event):\n",
    "    '''Capture the x,y coordinates of a mouse click on the image'''\n",
    "    ix, iy = event.xdata, event.ydata\n",
    "    coords.append([ix, iy]) "
   ]
  },
  {
   "cell_type": "markdown",
   "id": "b47f5b1c",
   "metadata": {},
   "source": [
    "We used Twitter to communicate with the author of the video and ask permission to use it in this lesson. A big _Thank You_ to Jon Thomas-Palmer for letting us use it!"
   ]
  },
  {
   "cell_type": "code",
   "execution_count": null,
   "id": "ce1f500b",
   "metadata": {},
   "outputs": [],
   "source": [
    "%%html\n",
    "<blockquote class=\"twitter-tweet\" data-lang=\"en\"><p lang=\"en\" dir=\"ltr\">You have my permission to use the video. Please provide attribution to me. I’d enjoy seeing what you do with it too!</p>&mdash; Jon Thomas-Palmer (@FlippingPhysics) <a href=\"https://twitter.com/FlippingPhysics/status/926785273538666497?ref_src=twsrc%5Etfw\">November 4, 2017</a></blockquote> <script async src=\"https://platform.twitter.com/widgets.js\" charset=\"utf-8\"></script> "
   ]
  },
  {
   "cell_type": "markdown",
   "id": "be48698c",
   "metadata": {},
   "source": [
    "### Capture mouse clicks on many frames with a widget\n",
    "\n",
    "Capture the coordinates of mouse clicks on a _sequence_ of images, so\n",
    "that you may have the positions of the moving ball caught on video. We\n",
    "know how to capture the coordinates of mouse clicks, so the next\n",
    "challenge is to get consecutive frames of the video displayed for us, to\n",
    "click on the ball position each time. \n",
    "\n",
    "Widgets to the rescue! There are currently [10 different widget types](http://ipywidgets.readthedocs.io/en/stable/examples/Widget%20List.html) included in the `ipywidgets` library. The `BoundedIntText()` widget shows a text box with an integer value that can be stepped from a minimum to a maximum value by clicking up/down arrows. Stepping through frames with this widget, and clicking on the ball position each time, gets us what you want.\n",
    "\n",
    "Digitizing the ball positions in this way is a bit tedious. But this could be a realistic scenario: you captured video of a moving object, and you need to get position data from the video frames. Unless you have some fancy motion-capture equipment, this will do the trick.\n",
    "\n",
    "Let's load the Jupyter widgets:"
   ]
  },
  {
   "cell_type": "code",
   "execution_count": null,
   "id": "6d441df6",
   "metadata": {},
   "outputs": [],
   "source": [
    "from ipywidgets import widgets"
   ]
  },
  {
   "cell_type": "markdown",
   "id": "e18a4882",
   "metadata": {},
   "source": [
    "Download the video, previously converted to .mp4 format to be read by `imageio`, and then load it to an `imageio` _Reader_. Notice that it has 3531 frames, and they are 720x1280 pixels in size. \n",
    "\n",
    "Below, you're showing frame number 52, which you found to be the start of the portion shown at 50% speed. Go ahead and use that frame to capture mouse clicks on the intersection of several $10\\rm{cm}$ lines with one vertical, so you can calculate the scaling from pixels to physical distance.\n",
    "\n",
    "```\n",
    "from urllib.request import urlretrieve\n",
    "URL = 'http://go.gwu.edu/engcomp3vid1?accessType=DOWNLOAD'\n",
    "urlretrieve(URL, 'Projectile_Motion.mp4')\n",
    "```"
   ]
  },
  {
   "cell_type": "code",
   "execution_count": null,
   "id": "a5ef86fa",
   "metadata": {},
   "outputs": [],
   "source": [
    "reader = imageio.get_reader('Projectile_Motion.mp4')"
   ]
  },
  {
   "cell_type": "code",
   "execution_count": null,
   "id": "611d857f",
   "metadata": {},
   "outputs": [],
   "source": [
    "image = reader.get_data(52)\n",
    "image.shape"
   ]
  },
  {
   "cell_type": "code",
   "execution_count": null,
   "id": "ab010080",
   "metadata": {},
   "outputs": [],
   "source": [
    "fig = plt.figure()\n",
    "plt.imshow(image, interpolation='nearest')\n",
    "\n",
    "coords = []\n",
    "connectId = fig.canvas.mpl_connect('button_press_event', onclick)"
   ]
  },
  {
   "cell_type": "markdown",
   "id": "d42a1f4b",
   "metadata": {},
   "source": [
    "## Exercise \n",
    "\n",
    "Grab the coordinates of the 0, 10, 20, 30, 40, ..., 100-cm vertical positions so you can create a vertical conversion from pixels to centimeters with `gap_lines`."
   ]
  },
  {
   "cell_type": "code",
   "execution_count": null,
   "id": "37653443",
   "metadata": {},
   "outputs": [],
   "source": [
    "coords"
   ]
  },
  {
   "cell_type": "code",
   "execution_count": null,
   "id": "7d7c9548",
   "metadata": {},
   "outputs": [],
   "source": [
    "y_lines = np.array(coords)[:,1]\n",
    "y_lines"
   ]
  },
  {
   "cell_type": "code",
   "execution_count": null,
   "id": "ae0e388f",
   "metadata": {},
   "outputs": [],
   "source": [
    "gap_lines = y_lines[1:] - y_lines[0:-1]\n",
    "gap_lines.mean()"
   ]
  },
  {
   "cell_type": "markdown",
   "id": "dda1cf2d",
   "metadata": {},
   "source": [
    "You computed the vertical distance between in pixels between  distances\n",
    "of $10\\rm{cm}$ marks (averaging over your clicks). The\n",
    "0.1-m/`gap_lines.mean()` converts distances in pixels to distances in\n",
    "meters."
   ]
  },
  {
   "cell_type": "markdown",
   "id": "9ef7deb4",
   "metadata": {},
   "source": [
    "Now the fun part! Study the code below: you create a `selector` widget\n",
    "of the `BoundedIntText` type, taking the values from 52 to 77, and\n",
    "stepping by 1. We already played around a lot with the video and found\n",
    "this frame range to contain the portion shown at 50% speed. \n",
    "\n",
    "Re-use the `onclick()` function, appending to a list named `coords`, and\n",
    "you call it with an event connection from Matplotlib, just like before.\n",
    "But now you add a call to\n",
    "[`widgets.interact()`](http://ipywidgets.readthedocs.io/en/stable/examples/Using%20Interact.html),\n",
    "using a new function named `catchclick()` that reads a new video frame\n",
    "and refreshes the figure with it.\n",
    "\n",
    "Execute this cell, then click on the ball position, advance a frame,\n",
    "click on the new ball position, and so on, until frame 77. The mouse\n",
    "click positions will be saved in `coords`.\n",
    "\n",
    "Its better to click on the bottom edge of the ball image, rather than\n",
    "attempt to aim at the ball's center."
   ]
  },
  {
   "cell_type": "code",
   "execution_count": null,
   "id": "be31c821",
   "metadata": {},
   "outputs": [],
   "source": [
    "selector = widgets.BoundedIntText(value=52, min=52, max=77, step=1,\n",
    "    description='Frame:',\n",
    "    disabled=False)\n",
    "\n",
    "coords = []\n",
    "\n",
    "def catchclick(frame):\n",
    "    image = reader.get_data(frame)\n",
    "    plt.imshow(image, interpolation='nearest');\n",
    "\n",
    "\n",
    "fig = plt.figure()\n",
    "\n",
    "connectId = fig.canvas.mpl_connect('button_press_event',onclick)\n",
    "\n",
    "widgets.interact(catchclick, frame=selector);"
   ]
  },
  {
   "cell_type": "code",
   "execution_count": null,
   "id": "dec00536",
   "metadata": {},
   "outputs": [],
   "source": [
    "coords # view the pixel coordinates of the projectile"
   ]
  },
  {
   "cell_type": "markdown",
   "id": "b629aa2a",
   "metadata": {},
   "source": [
    "Now, convert the positions in pixels to meters, using your scaling for\n",
    "this video, and save the $x$ and $y$ coordinates to new arrays. Below,\n",
    "you plot the ball positions that you captured."
   ]
  },
  {
   "cell_type": "code",
   "execution_count": null,
   "id": "e9dc134a",
   "metadata": {},
   "outputs": [],
   "source": [
    "x = np.array(coords)[:,0] *0.1 / gap_lines.mean()\n",
    "y = np.array(coords)[:,1] *0.1 / gap_lines.mean()"
   ]
  },
  {
   "cell_type": "code",
   "execution_count": null,
   "id": "63ad1246",
   "metadata": {},
   "outputs": [],
   "source": [
    "# make a scatter plot of the projectile positions\n",
    "fig = plt.figure()\n",
    "plt.scatter(x,-y);"
   ]
  },
  {
   "cell_type": "markdown",
   "id": "eb009cbf",
   "metadata": {},
   "source": [
    "Finally, compute the vertical displacements, then get the vertical velocity and acceleration. And why not repeat the process for the horizontal direction of motion. The time interval is $1/60$ seconds, according to the original video description, i.e., 60 frames per second."
   ]
  },
  {
   "cell_type": "code",
   "execution_count": null,
   "id": "fe7673b6",
   "metadata": {},
   "outputs": [],
   "source": [
    "delta_y = (y[1:] - y[0:-1])"
   ]
  },
  {
   "cell_type": "code",
   "execution_count": null,
   "id": "b234e191",
   "metadata": {},
   "outputs": [],
   "source": [
    "vy = delta_y * 60\n",
    "ay = (vy[1:] - vy[:-1]) * 60\n",
    "print('The acceleration in the y direction is: {:.2f}'.format(ay.mean()))"
   ]
  },
  {
   "cell_type": "code",
   "execution_count": null,
   "id": "9401c694",
   "metadata": {},
   "outputs": [],
   "source": [
    "delta_x = (x[1:] - x[:-1])\n",
    "vx = delta_x * 60\n",
    "ax = (vx[1:] - vx[:-1]) * 60\n",
    "print('The acceleration in the x direction is: {:.2f}'.format(ax.mean()))"
   ]
  },
  {
   "cell_type": "markdown",
   "id": "5d29b502",
   "metadata": {},
   "source": [
    "## Saving your hard work\n",
    "\n",
    "You have put a lot of effort into processing these images so far. Let's\n",
    "save your variables `time`, `x`, and `y` so you can load it back later. \n",
    "\n",
    "Use the command `np.savez(file_name, array1,array2,...)` to save your arrays for use later.\n",
    "\n",
    "The x-y-coordinates occur at 1/60 s, 2/60s, ... len(y)/60s = `np.arange(0,len(y))/60`"
   ]
  },
  {
   "cell_type": "code",
   "execution_count": null,
   "id": "1f358945",
   "metadata": {},
   "outputs": [],
   "source": [
    "t = np.arange(0,len(y))/60\n",
    "np.savez('../data/projectile_coords.npz',t=t,x=x,y=-y)"
   ]
  },
  {
   "cell_type": "markdown",
   "id": "bceb1686",
   "metadata": {},
   "source": [
    "## Discussion\n",
    "\n",
    "* What did you get for the $x$ and $y$ accelerations? What did your colleagues get?\n",
    "* Do the results make sense to you? Why or why not?"
   ]
  },
  {
   "cell_type": "markdown",
   "id": "edc38e2c",
   "metadata": {},
   "source": [
    "## Numerical derivatives\n",
    "\n",
    "You just computed the average velocity between two captured ball positions using _numerical derivative_. The velocity is the _derivative_ of position with respect to time, and you can approximate its instantaneous value with the average velocity between two close instants in time:\n",
    "\n",
    "\\begin{equation}\n",
    "v(t) = \\frac{dy}{dt} \\approx \\frac{y(t_i+\\Delta t)-y(t_i)}{\\Delta t}\n",
    "\\end{equation}\n",
    "\n",
    "And acceleration is the _derivative_ of velocity with respect to time; you can approximate it with the average acceleration within a time interval:\n",
    "\n",
    "\\begin{equation}\n",
    "a(t) = \\frac{dv}{dt} \\approx \\frac{v(t_i+\\Delta t)-v(t_i)}{\\Delta t}\n",
    "\\end{equation}\n",
    "\n",
    "As you can imagine, the quality of the approximation depends on the size of the time interval: as $\\Delta t$ gets smaller, the error also gets smaller."
   ]
  },
  {
   "cell_type": "markdown",
   "id": "cab2139f",
   "metadata": {},
   "source": [
    "### Using high-resolution data\n",
    "\n",
    "Suppose you had some high-resolution experimental data of a falling ball. Might you be able to compute the acceleration of gravity, and get a value closer to the actual acceleration of $9.8\\rm{m/s}^2$?\n",
    "\n",
    "You're in luck! Physics professor Anders Malthe-Sørenssen of Norway has some high-resolution data on the youbsite to accompany his book [3]. We contacted him by email to ask for permission to use the data set of a falling tennis ball, and he graciously agreed. _Thank you!_ His data was recorded with a motion detector on the ball, measuring the $y$ coordinate at tiny time intervals of $\\Delta t = 0.001\\rm{s}$. Pretty fancy."
   ]
  },
  {
   "cell_type": "code",
   "execution_count": null,
   "id": "aae8076a",
   "metadata": {},
   "outputs": [],
   "source": [
    "filename = '../data/fallingtennisball02.txt'\n",
    "t, y = np.loadtxt(filename, usecols=[0,1], unpack=True)"
   ]
  },
  {
   "cell_type": "markdown",
   "id": "f3681668",
   "metadata": {},
   "source": [
    "Okay! You should have two new arrays with the time and position data. Let's get a plot of the ball's vertical position."
   ]
  },
  {
   "cell_type": "code",
   "execution_count": null,
   "id": "4864af1e",
   "metadata": {},
   "outputs": [],
   "source": [
    "fig = plt.figure(figsize=(6,4))\n",
    "plt.plot(t,y);"
   ]
  },
  {
   "cell_type": "markdown",
   "id": "aa9e5846",
   "metadata": {},
   "source": [
    "Neat. The ball bounced 3 times during motion capture. Let's compute the\n",
    "acceleration during the first fall, before the bounce. We can find the bounce locations in different ways. Here, we will look for large changes in velocity. When the ball reaches the largest negative velocity, that's the point when it strikes the ground,"
   ]
  },
  {
   "cell_type": "code",
   "execution_count": null,
   "id": "8ad96a6c",
   "metadata": {},
   "outputs": [],
   "source": [
    "delta_y = (y[1:] - y[:-1])"
   ]
  },
  {
   "cell_type": "code",
   "execution_count": null,
   "id": "f3974fa2",
   "metadata": {},
   "outputs": [],
   "source": [
    "dt = t[1]-t[0]\n",
    "dt"
   ]
  },
  {
   "cell_type": "code",
   "execution_count": null,
   "id": "a572e705",
   "metadata": {},
   "outputs": [],
   "source": [
    "vy = delta_y / dt\n",
    "plt.figure();\n",
    "plt.plot(t[0:-1], vy, 'o')\n",
    "\n",
    "first_impact = np.argmin(vy)\n",
    "\n",
    "plt.plot(t[first_impact], \n",
    "         vy[first_impact], \n",
    "         '*', \n",
    "         markersize = 20)\n",
    "\n",
    "plt.text(t[first_impact], \n",
    "         vy[first_impact], 'first impact')"
   ]
  },
  {
   "cell_type": "code",
   "execution_count": null,
   "id": "e7787bf1",
   "metadata": {},
   "outputs": [],
   "source": [
    "ay = (vy[1:first_impact] - vy[:first_impact-1]) / dt\n",
    "print('The acceleration in the y direction is: {:.2f}'.format(ay.mean()))"
   ]
  },
  {
   "cell_type": "markdown",
   "id": "f7656df5",
   "metadata": {},
   "source": [
    "Gah. Even with this high-resolution data, you're getting an average value of acceleration that is smaller than the actual acceleration of gravity: $9.8\\rm{m/s}^2$. _What is going on?_ Hmm. Let's make a plot of the acceleration values…"
   ]
  },
  {
   "cell_type": "code",
   "execution_count": null,
   "id": "b2beee58",
   "metadata": {},
   "outputs": [],
   "source": [
    "fig = plt.figure(figsize=(6,4))\n",
    "plt.plot(ay);"
   ]
  },
  {
   "cell_type": "markdown",
   "id": "283a8135",
   "metadata": {},
   "source": [
    "## Discussion\n",
    "\n",
    "* What do you see in the plot of acceleration computed from the high-resolution data?\n",
    "* Can you explain it? What do you think is causing this?"
   ]
  },
  {
   "cell_type": "markdown",
   "id": "af686925",
   "metadata": {},
   "source": [
    "## What you've learned\n",
    "\n",
    "* Work with images and videos in Python using `imageio`.\n",
    "* Get interactive figures using the `%matplotlib notebook` command.\n",
    "* Capture mouse clicks with Matplotlib's `mpl_connect()`.\n",
    "* Observed acceleration of falling bodies is less than $9.8\\rm{m/s}^2$.\n",
    "* Capture mouse clicks on several video frames using widgets!\n",
    "* Projectile motion is like falling under gravity, plus a horizontal velocity.\n",
    "* Save our hard work as a numpy .npz file __Check the Problems for loading it back into your session__\n",
    "* Compute numerical derivatives using differences via array slicing.\n",
    "* Real data shows free-fall acceleration decreases in magnitude from $9.8\\rm{m/s}^2$."
   ]
  },
  {
   "cell_type": "markdown",
   "id": "d5200d5b",
   "metadata": {},
   "source": [
    "## References\n",
    "\n",
    "1.  Strobe of a Falling Ball (2008), MIT Department of Physics Technical Services Group, video under CC-BY-NC, available online on [MIT TechTV](http://techtv.mit.edu/collections/physicsdemos/videos/831-strobe-of-a-falling-ball).\n",
    "\n",
    "2. The Classic Bullet Projectile Motion Experiment with X & Y Axis Scales (2004), video by [Flipping Physics](http://www.flippingphysics.com/bullet-with-scales.html), Jon Thomas-Palmer. Used with permission.\n",
    "\n",
    "3. _Elementary Mechanics Using Python_ (2015), Anders Malthe-Sorenssen, Undergraduate Lecture Notes in Physics, Springer. Data at http://folk.uio.no/malthe/mechbook/"
   ]
  }
 ],
 "metadata": {
  "jupytext": {
   "formats": "notebooks//ipynb,md:myst",
   "text_representation": {
    "extension": ".md",
    "format_name": "myst",
    "format_version": 0.13,
    "jupytext_version": "1.16.2"
   }
  },
  "kernelspec": {
   "display_name": "Python 3 (ipykernel)",
   "language": "python",
   "name": "python3"
  },
  "language_info": {
   "codemirror_mode": {
    "name": "ipython",
    "version": 3
   },
   "file_extension": ".py",
   "mimetype": "text/x-python",
   "name": "python",
   "nbconvert_exporter": "python",
   "pygments_lexer": "ipython3",
   "version": "3.9.20"
  },
  "source_map": [
   13,
   18,
   28,
   38,
   43,
   53,
   63,
   65,
   71,
   77,
   83,
   88,
   92,
   95,
   111,
   113,
   125,
   129,
   134,
   140,
   146,
   150,
   155,
   158,
   165,
   186,
   205,
   207,
   213,
   218,
   222,
   226,
   230,
   236,
   241,
   252,
   255,
   262,
   280,
   288,
   291,
   295,
   298,
   303,
   307,
   312,
   328,
   331,
   335,
   338,
   345,
   359
  ]
 },
 "nbformat": 4,
 "nbformat_minor": 5
}